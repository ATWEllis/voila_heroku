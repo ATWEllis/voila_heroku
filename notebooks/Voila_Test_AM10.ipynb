{
 "cells": [
  {
   "cell_type": "code",
   "execution_count": 1,
   "metadata": {},
   "outputs": [],
   "source": [
    "import os\n",
    "import pandas as pd\n",
    "import ipywidgets as widgets\n",
    "from ipywidgets import interact, interact_manual\n",
    "import matplotlib.pyplot as plt\n",
    "import math"
   ]
  },
  {
   "cell_type": "markdown",
   "metadata": {},
   "source": [
    "# AM10 Voila Test\n",
    "## Vary your ventilation rate, Internal Temperature, Height of opening"
   ]
  },
  {
   "cell_type": "code",
   "execution_count": 3,
   "metadata": {},
   "outputs": [
    {
     "data": {
      "application/vnd.jupyter.widget-view+json": {
       "model_id": "bf638fa82d184fb8a181cba274f99e6a",
       "version_major": 2,
       "version_minor": 0
      },
      "text/plain": [
       "interactive(children=(FloatSlider(value=0.5, description='q', max=2.0), IntSlider(value=28, description='Ti', …"
      ]
     },
     "metadata": {},
     "output_type": "display_data"
    }
   ],
   "source": [
    "@interact(q=(0.0,2.0,0.1),Ti=(0,40,1),h=(0.0,5.0,0.1))\n",
    "def fn(q=0.5,Ti=28,h=2):\n",
    "    Te=range(10,31,5)\n",
    "    qlist= [q for _ in Te]\n",
    "    Tilist= [Ti for _ in Te]\n",
    "    Telist= [T for T in Te]\n",
    "    hlist= [h for _ in Te]\n",
    "    \n",
    "    Area=[]\n",
    "    for i,j in enumerate(Te):\n",
    "        x=(Tilist[i]+273)/((Tilist[i]-j)*9.81*hlist[i])\n",
    "        y=math.sqrt(abs(x))\n",
    "        A=qlist[i]*y/0.25\n",
    "        Area.append(A)\n",
    "    \n",
    "    plt.plot(Te,Area)\n",
    "\n",
    "    \n",
    "    return(Area)"
   ]
  },
  {
   "cell_type": "markdown",
   "metadata": {},
   "source": [
    "Graph showing opening area required compared to external temperature"
   ]
  },
  {
   "cell_type": "code",
   "execution_count": null,
   "metadata": {},
   "outputs": [],
   "source": []
  }
 ],
 "metadata": {
  "kernelspec": {
   "display_name": "Python 3",
   "language": "python",
   "name": "python3"
  },
  "language_info": {
   "codemirror_mode": {
    "name": "ipython",
    "version": 3
   },
   "file_extension": ".py",
   "mimetype": "text/x-python",
   "name": "python",
   "nbconvert_exporter": "python",
   "pygments_lexer": "ipython3",
   "version": "3.6.5"
  }
 },
 "nbformat": 4,
 "nbformat_minor": 2
}
